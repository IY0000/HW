{
  "nbformat": 4,
  "nbformat_minor": 0,
  "metadata": {
    "colab": {
      "provenance": []
    },
    "kernelspec": {
      "name": "python3",
      "display_name": "Python 3"
    },
    "language_info": {
      "name": "python"
    }
  },
  "cells": [
    {
      "cell_type": "code",
      "source": [
        "#1\n",
        "a=int(input())\n",
        "b=int(a**0.5)\n",
        "index=0\n",
        "if a<2:\n",
        "  print(\"錯誤\")\n",
        "  index=1\n",
        "while index==0:\n",
        "  c=0\n",
        "  for i in range(2,b+1):\n",
        "    if a%i==0:\n",
        "      c=c+1\n",
        "      break\n",
        "    else:\n",
        "      continue\n",
        "  if c==0:\n",
        "    print(a)\n",
        "    break\n",
        "  else:\n",
        "    a=a-1\n"
      ],
      "metadata": {
        "colab": {
          "base_uri": "https://localhost:8080/"
        },
        "id": "UxPKwp99t7yI",
        "outputId": "8f65fdeb-2816-4a9c-f2a9-7b2dc37f906c"
      },
      "execution_count": 15,
      "outputs": [
        {
          "output_type": "stream",
          "name": "stdout",
          "text": [
            "1\n",
            "錯誤\n"
          ]
        }
      ]
    },
    {
      "cell_type": "code",
      "source": [
        "#2\n",
        "a=list(map(int,input().split(\",\")))\n",
        "b=len(a)\n",
        "g=[]\n",
        "for i in range(0,b):\n",
        "  c=0\n",
        "  for j in range(0,b):\n",
        "    if a[i]>a[j]:\n",
        "      c=c+1\n",
        "    else:\n",
        "      continue\n",
        "  g.append(c)\n",
        "print(g)"
      ],
      "metadata": {
        "colab": {
          "base_uri": "https://localhost:8080/"
        },
        "id": "Owl62Iiut7on",
        "outputId": "cf5c32fd-4891-4dde-f5a2-7e5056744a7d"
      },
      "execution_count": 10,
      "outputs": [
        {
          "output_type": "stream",
          "name": "stdout",
          "text": [
            "1,2,3,4,5\n",
            "[0, 1, 2, 3, 4]\n"
          ]
        }
      ]
    },
    {
      "cell_type": "code",
      "execution_count": 7,
      "metadata": {
        "colab": {
          "base_uri": "https://localhost:8080/"
        },
        "id": "8E_-vNFZtFvm",
        "outputId": "88e25027-c6d1-4136-cb7b-2e0b725008de"
      },
      "outputs": [
        {
          "output_type": "stream",
          "name": "stdout",
          "text": [
            "001011\n",
            "[11, 8, 5, 4, 3, 4]\n"
          ]
        }
      ],
      "source": [
        "#3\n",
        "a=str(input())\n",
        "b=len(a)\n",
        "c=[]\n",
        "d=[]\n",
        "for i in range(0,b):\n",
        "  if a[i]==\"1\":\n",
        "    c.append(i)\n",
        "  else:\n",
        "    continue\n",
        "for i in range(0,b):\n",
        "  e=0\n",
        "  for j in c:\n",
        "    e=e+abs(i-j)\n",
        "  d.append(e)\n",
        "print(d)\n"
      ]
    }
  ]
}