{
  "nbformat": 4,
  "nbformat_minor": 0,
  "metadata": {
    "colab": {
      "provenance": []
    },
    "kernelspec": {
      "name": "python3",
      "display_name": "Python 3"
    },
    "language_info": {
      "name": "python"
    }
  },
  "cells": [
    {
      "cell_type": "code",
      "execution_count": 16,
      "metadata": {
        "colab": {
          "base_uri": "https://localhost:8080/"
        },
        "id": "V9tRjuXXuezd",
        "outputId": "82ef52d8-dccc-4343-f0bd-63f3d34fcabb"
      },
      "outputs": [
        {
          "output_type": "stream",
          "name": "stdout",
          "text": [
            "        *        \n",
            "       ***       \n",
            "      *****      \n",
            "     *******     \n",
            "    *********    \n",
            "   ***********   \n",
            "  *************  \n",
            " *************** \n",
            "*****************\n",
            "       ***       \n",
            "       ***       \n",
            "       ***       \n",
            "       ***       \n",
            "       ***       \n"
          ]
        }
      ],
      "source": [
        "#1.\n",
        "i=1\n",
        "j=1\n",
        "b='*'\n",
        "a='***'\n",
        "for i in range(1,10):\n",
        "  print(f'{b:^17s}')\n",
        "  b=b+'**'\n",
        "  i+=1\n",
        "for j in range(1,6):\n",
        "  print(f'{a:^17s}')"
      ]
    },
    {
      "cell_type": "code",
      "source": [
        "#2.\n",
        "import random\n",
        "a=random.sample(range(1,10),4)\n",
        "x=0;y=0;ans=0\n",
        "print('答案：',a)\n",
        "while 1:\n",
        "  b=list(map(int,input('輸入數字：')))\n",
        "  b1=\"\".join(map(str,b))\n",
        "  if len(b)>4:\n",
        "    print(\"輸入數字過多，請重新輸入：\")\n",
        "    continue\n",
        "  for i in a:\n",
        "    for j in b:\n",
        "      if i==j:\n",
        "        if a.index(i)==b.index(j):\n",
        "          #print('x=',x)\n",
        "          x+=1\n",
        "        else:\n",
        "          #print('y=',y)\n",
        "          y+=1\n",
        "  print(\"%s:%dA%dB\"%(b1,x,y))\n",
        "  ans+=1\n",
        "  if x==4:\n",
        "    break\n",
        "  x=0;y=0\n",
        "print('共猜了%d次'%(ans))"
      ],
      "metadata": {
        "colab": {
          "base_uri": "https://localhost:8080/"
        },
        "id": "BIi8PSHAa9W7",
        "outputId": "da6e9e5e-f979-474d-9ba4-12f24419265a"
      },
      "execution_count": 54,
      "outputs": [
        {
          "output_type": "stream",
          "name": "stdout",
          "text": [
            "答案： [6, 4, 3, 2]\n",
            "輸入數字：12345\n",
            "輸入數字過多，請重新輸入：\n",
            "輸入數字：3215\n",
            "3215:0A2B\n",
            "輸入數字：1234\n",
            "1234:1A2B\n",
            "輸入數字：1238\n",
            "1238:1A1B\n",
            "輸入數字：3546\n",
            "3546:0A3B\n",
            "輸入數字：1235\n",
            "1235:1A1B\n",
            "輸入數字：6432\n",
            "6432:4A0B\n",
            "共猜了6次\n"
          ]
        }
      ]
    }
  ]
}