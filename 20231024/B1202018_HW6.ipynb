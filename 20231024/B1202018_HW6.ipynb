{
  "nbformat": 4,
  "nbformat_minor": 0,
  "metadata": {
    "colab": {
      "provenance": []
    },
    "kernelspec": {
      "name": "python3",
      "display_name": "Python 3"
    },
    "language_info": {
      "name": "python"
    }
  },
  "cells": [
    {
      "cell_type": "code",
      "execution_count": 12,
      "metadata": {
        "id": "b08mle3gcKIs",
        "colab": {
          "base_uri": "https://localhost:8080/"
        },
        "outputId": "2a07bee2-081f-4384-bd8b-c626bec13496"
      },
      "outputs": [
        {
          "output_type": "stream",
          "name": "stdout",
          "text": [
            "聖誕樹層數：8\n",
            "       *\n",
            "      ***\n",
            "     *****\n",
            "    *******\n",
            "   *********\n",
            "  ***********\n",
            " *************\n",
            "***************\n",
            "      ***\n",
            "      ***\n",
            "      ***\n",
            "      ***\n",
            "      ***\n"
          ]
        }
      ],
      "source": [
        "#1\n",
        "def tree():\n",
        "  a=int(input(\"聖誕樹層數：\"))\n",
        "  for i in range(a):\n",
        "    print((\" \"*(a-1-i))+(\"*\"*(2*i+1)))\n",
        "  n=0\n",
        "  while n<5 :\n",
        "    for i in range(a-2):\n",
        "      print(\" \",end=\"\")\n",
        "    print(\"***\")\n",
        "    n+=1\n",
        "\n",
        "tree()"
      ]
    },
    {
      "cell_type": "code",
      "source": [
        "#2\n",
        "def BMI(h,w):\n",
        "  try:\n",
        "    fh=float(h)/100\n",
        "    fw=float(w)\n",
        "    result=fw/(fh**2)\n",
        "    return result\n",
        "  except:\n",
        "    return -1\n",
        "\n",
        "h=input(\"輸入身高（公分）：\")\n",
        "w=input(\"輸入體重：\")\n",
        "BMI=BMI(h,w)\n",
        "if BMI==-1:\n",
        "  print(\"輸入內容錯誤\")\n",
        "elif BMI<18.5:\n",
        "  print('BMI：%f\\n體位：過輕'%(BMI))\n",
        "elif BMI>=18.5 and BMI<24:\n",
        "   print('BMI：%f\\n體位：適中'%(BMI))\n",
        "elif BMI>=24 and BMI<27:\n",
        "  print('BMI：%f\\n體位：過重'%(BMI))\n",
        "else :\n",
        "  print('BMI：%f\\n體位：肥胖'%(BMI))\n"
      ],
      "metadata": {
        "colab": {
          "base_uri": "https://localhost:8080/"
        },
        "id": "Vcov5x8-iai7",
        "outputId": "ee63dfa5-081a-4369-d878-3364cebc96b1"
      },
      "execution_count": 28,
      "outputs": [
        {
          "output_type": "stream",
          "name": "stdout",
          "text": [
            "輸入身高（公分）：150\n",
            "輸入體重：50\n",
            "BMI：22.222222\n",
            "體位：適中\n"
          ]
        }
      ]
    }
  ]
}