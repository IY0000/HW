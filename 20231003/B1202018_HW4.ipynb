{
  "nbformat": 4,
  "nbformat_minor": 0,
  "metadata": {
    "colab": {
      "provenance": []
    },
    "kernelspec": {
      "name": "python3",
      "display_name": "Python 3"
    },
    "language_info": {
      "name": "python"
    }
  },
  "cells": [
    {
      "cell_type": "code",
      "execution_count": null,
      "metadata": {
        "id": "pz23SEj5om84",
        "colab": {
          "base_uri": "https://localhost:8080/"
        },
        "outputId": "a41ec6f2-170b-4a23-91af-b2b32273f687"
      },
      "outputs": [
        {
          "output_type": "stream",
          "name": "stdout",
          "text": [
            "1 3 9 7 5\n",
            "5.0\n"
          ]
        }
      ],
      "source": [
        "#1.\n",
        "a=input().split()\n",
        "for i in range(len(a)):\n",
        "  a[i] = float(a[i])\n",
        "a.sort()\n",
        "b=(a[1]+a[2]+a[3])/3\n",
        "print(b)"
      ]
    },
    {
      "cell_type": "code",
      "source": [
        "#2\n",
        "a=input().split()\n",
        "x=float(a[0]);y=float(a[1])\n",
        "if a[2]=='+':\n",
        "  print(x+y)\n",
        "elif a[2]=='-':\n",
        "  print(x-y)\n",
        "elif a[2]=='*':\n",
        "  print(x*y)\n",
        "elif a[2]=='/':\n",
        "  print(x/y)"
      ],
      "metadata": {
        "id": "H9IdCtQvpu3k",
        "colab": {
          "base_uri": "https://localhost:8080/"
        },
        "outputId": "c5cb36b1-1f99-41b2-edb0-d417d292c950"
      },
      "execution_count": null,
      "outputs": [
        {
          "output_type": "stream",
          "name": "stdout",
          "text": [
            "2 5 /\n",
            "0.4\n"
          ]
        }
      ]
    },
    {
      "cell_type": "code",
      "source": [
        "#3\n",
        "year=int(input('輸入年份:'))\n",
        "if year%400==0:\n",
        "  print('閏年')\n",
        "elif year%100==0:\n",
        "  print('平年')\n",
        "elif year%4==0:\n",
        "  print('閏年')\n",
        "else:\n",
        "  print('平年')\n"
      ],
      "metadata": {
        "id": "dwqQdauupu9s",
        "colab": {
          "base_uri": "https://localhost:8080/"
        },
        "outputId": "c3fccf2c-d9da-4591-bce2-ee37f10659ef"
      },
      "execution_count": 47,
      "outputs": [
        {
          "output_type": "stream",
          "name": "stdout",
          "text": [
            "輸入年份:71\n",
            "平年\n"
          ]
        }
      ]
    }
  ]
}