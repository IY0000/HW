{
  "nbformat": 4,
  "nbformat_minor": 0,
  "metadata": {
    "colab": {
      "provenance": []
    },
    "kernelspec": {
      "name": "python3",
      "display_name": "Python 3"
    },
    "language_info": {
      "name": "python"
    }
  },
  "cells": [
    {
      "cell_type": "code",
      "execution_count": null,
      "metadata": {
        "id": "q-fb0mUaWCSG"
      },
      "outputs": [],
      "source": [
        "a='C,B,A'\n",
        "b=['F','G','H']\n",
        "c=a.split(',')\n",
        "c+=b\n",
        "c[0]='K'\n",
        "d=c.pop(2)\n",
        "print(d)\n",
        "del c[1:4]\n",
        "c.append('U')\n",
        "print(c)"
      ]
    },
    {
      "cell_type": "code",
      "source": [
        "weight=float(input('輸入體重：'))\n",
        "height=float(input('輸入身高：'))\n",
        "height/=100\n",
        "BMI=weight/(height*height)\n",
        "print('BMI;',BMI)\n",
        "if BMI<18.5:\n",
        "  print('體位：過輕')\n",
        "elif BMI>=18.5 and BMI<24:\n",
        "  print('體位：適中')\n",
        "elif BMI>=24 and BMI<27:\n",
        "  print('體位：過重')\n",
        "else :\n",
        "  print('體位：肥胖')"
      ],
      "metadata": {
        "id": "uX7TkI1Kh4JB"
      },
      "execution_count": null,
      "outputs": []
    }
  ]
}